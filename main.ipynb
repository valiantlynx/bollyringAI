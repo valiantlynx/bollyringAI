{
 "cells": [
  {
   "cell_type": "code",
   "execution_count": 1,
   "metadata": {},
   "outputs": [],
   "source": [
    "import pandas as pd\n",
    "import numpy as np\n",
    "import plotly.express as px\n",
    "import dash\n",
    "from dash import dcc, html\n",
    "from dash.dependencies import Input, Output\n",
    "import json"
   ]
  },
  {
   "cell_type": "code",
   "execution_count": null,
   "metadata": {},
   "outputs": [],
   "source": [
    "# Load workers data and format correctly\n",
    "workers_df = pd.read_json('extracted/workers.json').transpose().reset_index()\n",
    "workers_df.columns = ['worker_id', 'name', 'base_salary']"
   ]
  },
  {
   "cell_type": "code",
   "execution_count": null,
   "metadata": {},
   "outputs": [],
   "source": [
    "# Load prices.json as a dictionary and convert to DataFrame\n",
    "with open('prices.json') as f:\n",
    "    prices_data = json.load(f)\n",
    "prices_df = pd.DataFrame(list(prices_data.items()), columns=['technical_problem', 'price'])"
   ]
  },
  {
   "cell_type": "code",
   "execution_count": null,
   "metadata": {},
   "outputs": [],
   "source": [
    "# Load and flatten feature_calls.json\n",
    "with open('extracted/feature_calls/calls_11.json') as f:\n",
    "    feature_calls_data = json.load(f)"
   ]
  },
  {
   "cell_type": "code",
   "execution_count": null,
   "metadata": {},
   "outputs": [],
   "source": [
    "# Flatten feature_calls_data\n",
    "feature_records = []\n",
    "for location, calls in feature_calls_data.items():\n",
    "    for call_id, call_info in calls.items():\n",
    "        call_info['call_id'] = call_id\n",
    "        call_info['location'] = location\n",
    "        feature_records.append(call_info)\n",
    "feature_calls_df = pd.DataFrame(feature_records)"
   ]
  },
  {
   "cell_type": "code",
   "execution_count": null,
   "metadata": {},
   "outputs": [],
   "source": [
    "# Load and flatten previous_calls.json\n",
    "with open('extracted/previous_calls/calls_0.json') as f:\n",
    "    previous_calls_data = json.load(f)\n",
    "previous_records = []\n",
    "for location, calls in previous_calls_data.items():\n",
    "    for call_id, call_info in calls.items():\n",
    "        call_info['call_id'] = call_id\n",
    "        call_info['location'] = location\n",
    "        previous_records.append(call_info)\n",
    "previous_calls_df = pd.DataFrame(previous_records)\n"
   ]
  },
  {
   "cell_type": "code",
   "execution_count": null,
   "metadata": {},
   "outputs": [],
   "source": [
    "# Load reports data\n",
    "reports_df = pd.read_json('extracted/previous_reports/call_report_0.json')\n"
   ]
  },
  {
   "cell_type": "code",
   "execution_count": null,
   "metadata": {},
   "outputs": [],
   "source": [
    "# Load and flatten schedules data\n",
    "with open('extracted/previous_schedules/call_shedule_0.json') as f:\n",
    "    schedules_data = json.load(f)\n",
    "schedule_records = []\n",
    "for worker_id, calls in schedules_data.items():\n",
    "    for call_id in calls:\n",
    "        schedule_records.append({'worker_id': worker_id, 'call_id': call_id})\n",
    "schedules_df = pd.DataFrame(schedule_records)\n"
   ]
  },
  {
   "cell_type": "code",
   "execution_count": null,
   "metadata": {},
   "outputs": [],
   "source": [
    "# Combine prices with calls based on technical problems\n",
    "feature_calls_df = feature_calls_df.merge(prices_df, on='technical_problem', how='left')\n",
    "previous_calls_df = previous_calls_df.merge(prices_df, on='technical_problem', how='left')\n"
   ]
  },
  {
   "cell_type": "code",
   "execution_count": null,
   "metadata": {},
   "outputs": [],
   "source": [
    "# Ensure call_time is available by adding a dummy column if missing\n",
    "if 'call_time' not in feature_calls_df.columns:\n",
    "    feature_calls_df['call_time'] = np.nan  # Or set this with actual values if available\n"
   ]
  },
  {
   "cell_type": "code",
   "execution_count": null,
   "metadata": {},
   "outputs": [],
   "source": [
    "# Calculate Expected Commission and Profit Discrepancy\n",
    "difficulty_commission_map = {'hard': 1.2, 'medium': 1.0, 'easy': 0.8}\n",
    "feature_calls_df['expected_commission'] = feature_calls_df['difficulty'].map(difficulty_commission_map) * feature_calls_df['price']\n",
    "feature_calls_df['profit_discrepancy'] = feature_calls_df['commission'] - feature_calls_df['expected_commission']\n"
   ]
  },
  {
   "cell_type": "code",
   "execution_count": null,
   "metadata": {},
   "outputs": [],
   "source": [
    "# Setup Dash and Plotly Visualizations\n",
    "app = dash.Dash(__name__)\n",
    "\n",
    "app.layout = html.Div([\n",
    "    html.H1(\"BollyringAI Call Schedule Insights\"),\n",
    "    \n",
    "    # Dropdown for choosing difficulty levels\n",
    "    html.Label(\"Select Difficulty Level:\"),\n",
    "    dcc.Dropdown(\n",
    "        id='difficulty_dropdown',\n",
    "        options=[{'label': k.capitalize(), 'value': k} for k in difficulty_commission_map.keys()],\n",
    "        value='medium'\n",
    "    ),\n",
    "    \n",
    "    # Additional Filters\n",
    "    html.Label(\"Select Worker ID:\"),\n",
    "    dcc.Dropdown(\n",
    "        id='worker_dropdown',\n",
    "        options=[{'label': worker, 'value': worker} for worker in workers_df['worker_id']],\n",
    "        value=workers_df['worker_id'][0]\n",
    "    ),\n",
    "    \n",
    "    # Graphs\n",
    "    dcc.Graph(id='profit_vs_call_time'),\n",
    "    dcc.Graph(id='commission_vs_profitability'),\n",
    "    dcc.Graph(id='recommendation_vs_salary'),\n",
    "    dcc.Graph(id='location_vs_problem'),\n",
    "    dcc.Graph(id='call_volume_time_series'),\n",
    "    dcc.Graph(id='call_load_vs_performance'),\n",
    "    dcc.Graph(id='problem_type_vs_call_time')\n",
    "])\n",
    "\n",
    "@app.callback(\n",
    "    [\n",
    "        Output('profit_vs_call_time', 'figure'),\n",
    "        Output('commission_vs_profitability', 'figure'),\n",
    "        Output('recommendation_vs_salary', 'figure'),\n",
    "        Output('location_vs_problem', 'figure'),\n",
    "        Output('call_volume_time_series', 'figure'),\n",
    "        Output('call_load_vs_performance', 'figure'),\n",
    "        Output('problem_type_vs_call_time', 'figure')\n",
    "    ],\n",
    "    [Input('difficulty_dropdown', 'value'), Input('worker_dropdown', 'value')]\n",
    ")\n",
    "def update_graphs(selected_difficulty, selected_worker):\n",
    "    # Filter data based on difficulty level\n",
    "    filtered_df = feature_calls_df[feature_calls_df['difficulty'] == selected_difficulty]\n",
    "    \n",
    "    # 1. Profit vs Call Time for selected worker\n",
    "    fig1 = px.scatter(\n",
    "        reports_df[reports_df['worker_id'] == selected_worker],\n",
    "        x='call_time',\n",
    "        y='call_profit',\n",
    "        color='likely_to_recommend',\n",
    "        title=f'Call Profit vs Call Time for Worker {selected_worker}',\n",
    "        labels={'call_time': 'Call Time (minutes)', 'call_profit': 'Call Profit'}\n",
    "    )\n",
    "    \n",
    "    # 2. Commission vs Profitability by Difficulty\n",
    "    fig2 = px.bar(\n",
    "        feature_calls_df.groupby('difficulty')['profit_discrepancy'].mean().reset_index(),\n",
    "        x='difficulty',\n",
    "        y='profit_discrepancy',\n",
    "        title='Average Profit Discrepancy by Difficulty',\n",
    "        labels={'difficulty': 'Difficulty Level', 'profit_discrepancy': 'Average Profit Discrepancy'}\n",
    "    )\n",
    "    \n",
    "    # 3. Recommendation Score Distribution by Worker Salary\n",
    "    worker_recommendation = reports_df.merge(workers_df, left_on='worker_id', right_on='worker_id')\n",
    "    fig3 = px.box(\n",
    "        worker_recommendation,\n",
    "        x='base_salary',\n",
    "        y='likely_to_recommend',\n",
    "        title='Likely to Recommend vs Worker Salary',\n",
    "        labels={'base_salary': 'Worker Salary', 'likely_to_recommend': 'Likely to Recommend'}\n",
    "    )\n",
    "    \n",
    "    # 4. Call Distribution by Location and Problem Type\n",
    "    fig4 = px.histogram(\n",
    "        feature_calls_df,\n",
    "        x='location',\n",
    "        color='technical_problem',\n",
    "        title='Call Distribution by Location and Problem Type',\n",
    "        labels={'location': 'Location', 'technical_problem': 'Technical Problem'},\n",
    "        barmode='stack'\n",
    "    )\n",
    "    \n",
    "    # 5. Time Series of Call Volume\n",
    "    if 'date' in feature_calls_df.columns:\n",
    "        call_volume_df = feature_calls_df.groupby('date').size().reset_index(name='call_volume')\n",
    "        fig5 = px.line(\n",
    "            call_volume_df,\n",
    "            x='date',\n",
    "            y='call_volume',\n",
    "            title='Call Volume Over Time',\n",
    "            labels={'date': 'Date', 'call_volume': 'Call Volume'}\n",
    "        )\n",
    "    else:\n",
    "        fig5 = px.line(title=\"No date information available for Call Volume\")\n",
    "\n",
    "    # 6. Worker Call Load vs Performance\n",
    "    worker_performance = reports_df.groupby('worker_id').agg(\n",
    "        call_count=('call_id', 'count'),\n",
    "        avg_profit=('call_profit', 'mean')\n",
    "    ).reset_index()\n",
    "    fig6 = px.scatter(\n",
    "        worker_performance,\n",
    "        x='call_count',\n",
    "        y='avg_profit',\n",
    "        title='Worker Call Load vs Average Profit',\n",
    "        labels={'call_count': 'Number of Calls', 'avg_profit': 'Average Profit per Call'}\n",
    "    )\n",
    "    \n",
    "    # 7. Problem Type vs Average Call Time\n",
    "    if 'call_time' in feature_calls_df.columns:\n",
    "        avg_call_time = feature_calls_df.groupby('technical_problem')['call_time'].mean().reset_index()\n",
    "        fig7 = px.bar(\n",
    "            avg_call_time,\n",
    "            x='technical_problem',\n",
    "            y='call_time',\n",
    "            title='Average Call Time by Technical Problem Type',\n",
    "            labels={'technical_problem': 'Technical Problem', 'call_time': 'Average Call Time'}\n",
    "        )\n",
    "    else:\n",
    "        fig7 = px.bar(title=\"No call time information available for Problem Type\")\n",
    "\n",
    "    return fig1, fig2, fig3, fig4, fig5, fig6, fig7\n",
    "\n",
    "# Run the Dash app\n",
    "if __name__ == '__main__':\n",
    "    app.run_server(debug=True)\n"
   ]
  }
 ],
 "metadata": {
  "kernelspec": {
   "display_name": ".venv",
   "language": "python",
   "name": "python3"
  },
  "language_info": {
   "codemirror_mode": {
    "name": "ipython",
    "version": 3
   },
   "file_extension": ".py",
   "mimetype": "text/x-python",
   "name": "python",
   "nbconvert_exporter": "python",
   "pygments_lexer": "ipython3",
   "version": "3.10.11"
  }
 },
 "nbformat": 4,
 "nbformat_minor": 2
}
